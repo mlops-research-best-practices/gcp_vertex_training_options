{
 "cells": [
  {
   "cell_type": "code",
   "execution_count": 1,
   "id": "55032662-5983-4562-afff-6d581e908e84",
   "metadata": {},
   "outputs": [
    {
     "name": "stdout",
     "output_type": "stream",
     "text": [
      "Collecting google-cloud-bigquery==1.25.0\n",
      "  Downloading google_cloud_bigquery-1.25.0-py2.py3-none-any.whl (169 kB)\n",
      "     |████████████████████████████████| 169 kB 7.9 MB/s            \n",
      "\u001b[?25hCollecting google-resumable-media<0.6dev,>=0.5.0\n",
      "  Downloading google_resumable_media-0.5.1-py2.py3-none-any.whl (38 kB)\n",
      "Collecting google-api-core<2.0dev,>=1.15.0\n",
      "  Downloading google_api_core-1.31.5-py2.py3-none-any.whl (93 kB)\n",
      "     |████████████████████████████████| 93 kB 1.2 MB/s             \n",
      "\u001b[?25hCollecting google-cloud-core<2.0dev,>=1.1.0\n",
      "  Downloading google_cloud_core-1.7.2-py2.py3-none-any.whl (28 kB)\n",
      "Collecting google-auth<2.0dev,>=1.9.0\n",
      "  Downloading google_auth-1.35.0-py2.py3-none-any.whl (152 kB)\n",
      "     |████████████████████████████████| 152 kB 59.8 MB/s            \n",
      "\u001b[?25hRequirement already satisfied: six<2.0.0dev,>=1.13.0 in /opt/conda/lib/python3.7/site-packages (from google-cloud-bigquery==1.25.0) (1.16.0)\n",
      "Requirement already satisfied: protobuf>=3.6.0 in /opt/conda/lib/python3.7/site-packages (from google-cloud-bigquery==1.25.0) (3.19.1)\n",
      "Requirement already satisfied: pytz in /opt/conda/lib/python3.7/site-packages (from google-api-core<2.0dev,>=1.15.0->google-cloud-bigquery==1.25.0) (2021.3)\n",
      "Requirement already satisfied: requests<3.0.0dev,>=2.18.0 in /opt/conda/lib/python3.7/site-packages (from google-api-core<2.0dev,>=1.15.0->google-cloud-bigquery==1.25.0) (2.26.0)\n",
      "Requirement already satisfied: setuptools>=40.3.0 in /opt/conda/lib/python3.7/site-packages (from google-api-core<2.0dev,>=1.15.0->google-cloud-bigquery==1.25.0) (59.6.0)\n",
      "Requirement already satisfied: googleapis-common-protos<2.0dev,>=1.6.0 in /opt/conda/lib/python3.7/site-packages (from google-api-core<2.0dev,>=1.15.0->google-cloud-bigquery==1.25.0) (1.53.0)\n",
      "Requirement already satisfied: packaging>=14.3 in /opt/conda/lib/python3.7/site-packages (from google-api-core<2.0dev,>=1.15.0->google-cloud-bigquery==1.25.0) (21.3)\n",
      "Requirement already satisfied: cachetools<5.0,>=2.0.0 in /opt/conda/lib/python3.7/site-packages (from google-auth<2.0dev,>=1.9.0->google-cloud-bigquery==1.25.0) (4.2.4)\n",
      "Requirement already satisfied: rsa<5,>=3.1.4 in /opt/conda/lib/python3.7/site-packages (from google-auth<2.0dev,>=1.9.0->google-cloud-bigquery==1.25.0) (4.8)\n",
      "Requirement already satisfied: pyasn1-modules>=0.2.1 in /opt/conda/lib/python3.7/site-packages (from google-auth<2.0dev,>=1.9.0->google-cloud-bigquery==1.25.0) (0.2.7)\n",
      "Requirement already satisfied: pyparsing!=3.0.5,>=2.0.2 in /opt/conda/lib/python3.7/site-packages (from packaging>=14.3->google-api-core<2.0dev,>=1.15.0->google-cloud-bigquery==1.25.0) (3.0.6)\n",
      "Requirement already satisfied: pyasn1<0.5.0,>=0.4.6 in /opt/conda/lib/python3.7/site-packages (from pyasn1-modules>=0.2.1->google-auth<2.0dev,>=1.9.0->google-cloud-bigquery==1.25.0) (0.4.8)\n",
      "Requirement already satisfied: certifi>=2017.4.17 in /opt/conda/lib/python3.7/site-packages (from requests<3.0.0dev,>=2.18.0->google-api-core<2.0dev,>=1.15.0->google-cloud-bigquery==1.25.0) (2021.10.8)\n",
      "Requirement already satisfied: charset-normalizer~=2.0.0 in /opt/conda/lib/python3.7/site-packages (from requests<3.0.0dev,>=2.18.0->google-api-core<2.0dev,>=1.15.0->google-cloud-bigquery==1.25.0) (2.0.9)\n",
      "Requirement already satisfied: idna<4,>=2.5 in /opt/conda/lib/python3.7/site-packages (from requests<3.0.0dev,>=2.18.0->google-api-core<2.0dev,>=1.15.0->google-cloud-bigquery==1.25.0) (3.1)\n",
      "Requirement already satisfied: urllib3<1.27,>=1.21.1 in /opt/conda/lib/python3.7/site-packages (from requests<3.0.0dev,>=2.18.0->google-api-core<2.0dev,>=1.15.0->google-cloud-bigquery==1.25.0) (1.26.7)\n",
      "Installing collected packages: google-auth, google-api-core, google-resumable-media, google-cloud-core, google-cloud-bigquery\n",
      "\u001b[31mERROR: pip's dependency resolver does not currently take into account all the packages that are installed. This behaviour is the source of the following dependency conflicts.\n",
      "explainable-ai-sdk 1.3.2 requires xai-image-widget, which is not installed.\n",
      "google-cloud-storage 1.43.0 requires google-resumable-media<3.0dev,>=1.3.0; python_version >= \"3.6\", but you have google-resumable-media 0.5.1 which is incompatible.\n",
      "cloud-tpu-client 0.10 requires google-api-python-client==1.8.0, but you have google-api-python-client 2.33.0 which is incompatible.\u001b[0m\n",
      "Successfully installed google-api-core-1.31.5 google-auth-1.35.0 google-cloud-bigquery-1.25.0 google-cloud-core-1.7.2 google-resumable-media-0.5.1\n"
     ]
    }
   ],
   "source": [
    "!pip install --user google-cloud-bigquery==1.25.0"
   ]
  },
  {
   "cell_type": "code",
   "execution_count": 2,
   "id": "a879d719-e89e-4969-b50b-104360d2d408",
   "metadata": {},
   "outputs": [],
   "source": [
    "import os\n",
    "from google.cloud import bigquery"
   ]
  },
  {
   "cell_type": "code",
   "execution_count": 3,
   "id": "cc30e2ba-30d7-4090-966f-8c956babe460",
   "metadata": {},
   "outputs": [
    {
     "name": "stdout",
     "output_type": "stream",
     "text": [
      "harsh-bqml\n"
     ]
    }
   ],
   "source": [
    "%%bash \n",
    "gcloud config list project --format \"value(core.project)\""
   ]
  },
  {
   "cell_type": "code",
   "execution_count": 4,
   "id": "c5de43ec-c40f-471f-822a-321869a81d4c",
   "metadata": {},
   "outputs": [
    {
     "name": "stdout",
     "output_type": "stream",
     "text": [
      "Your current GCP Project Name is: harsh-bqml\n"
     ]
    }
   ],
   "source": [
    "%%bash\n",
    "export PROJECT=$(gcloud config list project --format \"value(core.project)\")\n",
    "echo \"Your current GCP Project Name is: \"$PROJECT"
   ]
  },
  {
   "cell_type": "code",
   "execution_count": 5,
   "id": "833eadfd-4cbd-4aed-a0cd-6daf43cec6c6",
   "metadata": {},
   "outputs": [
    {
     "name": "stdout",
     "output_type": "stream",
     "text": [
      "Creating BigQuery dataset titled: nyc_bike_share\n",
      "Dataset 'harsh-bqml:nyc_bike_share' successfully created.\n",
      "Here are your current datasets:\n",
      "    datasetId     \n",
      " ---------------- \n",
      "  nyc_bike_share  \n"
     ]
    }
   ],
   "source": [
    "%%bash\n",
    "\n",
    "# Create a BigQuery dataset for babyweight if it doesn't exist\n",
    "datasetexists=$(bq ls -d | grep -w nyc_bike_share)\n",
    "\n",
    "if [ -n \"$datasetexists\" ]; then\n",
    "    echo -e \"BigQuery dataset already exists, let's not recreate it.\"\n",
    "\n",
    "else\n",
    "    echo \"Creating BigQuery dataset titled: nyc_bike_share\"\n",
    "    \n",
    "    bq --location=US mk --dataset \\\n",
    "        --description \"nyc bike share data\" \\\n",
    "        $PROJECT:nyc_bike_share\n",
    "    echo \"Here are your current datasets:\"\n",
    "    bq ls\n",
    "fi"
   ]
  },
  {
   "cell_type": "markdown",
   "id": "07cc71de-80df-4ee6-b827-f7d376cbba1b",
   "metadata": {},
   "source": [
    "## Check data quality"
   ]
  },
  {
   "cell_type": "code",
   "execution_count": 8,
   "id": "387f8020-bab6-488b-b403-23ae48af180c",
   "metadata": {},
   "outputs": [
    {
     "name": "stderr",
     "output_type": "stream",
     "text": [
      "Query complete after 0.00s: 100%|██████████| 2/2 [00:00<00:00, 818.64query/s]                         \n",
      "Downloading: 100%|██████████| 1/1 [00:01<00:00,  1.79s/rows]\n"
     ]
    },
    {
     "data": {
      "text/html": [
       "<div>\n",
       "<style scoped>\n",
       "    .dataframe tbody tr th:only-of-type {\n",
       "        vertical-align: middle;\n",
       "    }\n",
       "\n",
       "    .dataframe tbody tr th {\n",
       "        vertical-align: top;\n",
       "    }\n",
       "\n",
       "    .dataframe thead th {\n",
       "        text-align: right;\n",
       "    }\n",
       "</style>\n",
       "<table border=\"1\" class=\"dataframe\">\n",
       "  <thead>\n",
       "    <tr style=\"text-align: right;\">\n",
       "      <th></th>\n",
       "      <th>num_of_trips</th>\n",
       "      <th>lowest_trip_duration</th>\n",
       "      <th>highest_trip_duration</th>\n",
       "      <th>average__trip_duration</th>\n",
       "      <th>stddev_trip_duration</th>\n",
       "    </tr>\n",
       "  </thead>\n",
       "  <tbody>\n",
       "    <tr>\n",
       "      <th>0</th>\n",
       "      <td>53108721</td>\n",
       "      <td>60</td>\n",
       "      <td>19510049</td>\n",
       "      <td>962.490986</td>\n",
       "      <td>13546.093563</td>\n",
       "    </tr>\n",
       "  </tbody>\n",
       "</table>\n",
       "</div>"
      ],
      "text/plain": [
       "   num_of_trips  lowest_trip_duration  highest_trip_duration  \\\n",
       "0      53108721                    60               19510049   \n",
       "\n",
       "   average__trip_duration  stddev_trip_duration  \n",
       "0              962.490986          13546.093563  "
      ]
     },
     "execution_count": 8,
     "metadata": {},
     "output_type": "execute_result"
    }
   ],
   "source": [
    "%%bigquery\n",
    "\n",
    "SELECT\n",
    "    COUNT(tripduration) AS num_of_trips, \n",
    "    MIN(tripduration) AS lowest_trip_duration, \n",
    "    MAX(tripduration) AS highest_trip_duration,\n",
    "    AVG(tripduration) AS average__trip_duration,  \n",
    "    STDDEV(tripduration) AS stddev_trip_duration\n",
    "FROM \n",
    "    `bigquery-public-data.new_york_citibike.citibike_trips`"
   ]
  },
  {
   "cell_type": "code",
   "execution_count": 6,
   "id": "ba462c2f-3a40-4604-a6be-34e4400acb64",
   "metadata": {},
   "outputs": [
    {
     "name": "stderr",
     "output_type": "stream",
     "text": [
      "Query complete after 0.01s: 100%|██████████| 2/2 [00:00<00:00, 348.41query/s]                         \n",
      "Downloading: 100%|██████████| 1/1 [00:01<00:00,  1.13s/rows]\n"
     ]
    },
    {
     "data": {
      "text/html": [
       "<div>\n",
       "<style scoped>\n",
       "    .dataframe tbody tr th:only-of-type {\n",
       "        vertical-align: middle;\n",
       "    }\n",
       "\n",
       "    .dataframe tbody tr th {\n",
       "        vertical-align: top;\n",
       "    }\n",
       "\n",
       "    .dataframe thead th {\n",
       "        text-align: right;\n",
       "    }\n",
       "</style>\n",
       "<table border=\"1\" class=\"dataframe\">\n",
       "  <thead>\n",
       "    <tr style=\"text-align: right;\">\n",
       "      <th></th>\n",
       "      <th>f0_</th>\n",
       "    </tr>\n",
       "  </thead>\n",
       "  <tbody>\n",
       "    <tr>\n",
       "      <th>0</th>\n",
       "      <td>5828994</td>\n",
       "    </tr>\n",
       "  </tbody>\n",
       "</table>\n",
       "</div>"
      ],
      "text/plain": [
       "       f0_\n",
       "0  5828994"
      ]
     },
     "execution_count": 6,
     "metadata": {},
     "output_type": "execute_result"
    }
   ],
   "source": [
    "%%bigquery\n",
    "\n",
    "SELECT \n",
    "    COUNT(*)\n",
    "FROM \n",
    "    `bigquery-public-data.new_york_citibike.citibike_trips`\n",
    "WHERE\n",
    "    tripduration is NULL OR tripduration <=0;"
   ]
  },
  {
   "cell_type": "code",
   "execution_count": 11,
   "id": "f20930b9-8ebf-49ba-8497-56f36745f074",
   "metadata": {},
   "outputs": [
    {
     "name": "stdout",
     "output_type": "stream",
     "text": [
      "Total percentage of null values : 10.975587229826152\n"
     ]
    }
   ],
   "source": [
    "print(f\"Total percentage of null values : {100* (5828994 / 53108721)}\")"
   ]
  },
  {
   "cell_type": "code",
   "execution_count": 13,
   "id": "34878570-6953-450b-95a1-0e5c6fa8004c",
   "metadata": {},
   "outputs": [
    {
     "name": "stderr",
     "output_type": "stream",
     "text": [
      "Query complete after 0.01s: 100%|██████████| 2/2 [00:00<00:00, 670.61query/s]                         \n",
      "Downloading: 100%|██████████| 1/1 [00:00<00:00,  1.05rows/s]\n"
     ]
    },
    {
     "data": {
      "text/html": [
       "<div>\n",
       "<style scoped>\n",
       "    .dataframe tbody tr th:only-of-type {\n",
       "        vertical-align: middle;\n",
       "    }\n",
       "\n",
       "    .dataframe tbody tr th {\n",
       "        vertical-align: top;\n",
       "    }\n",
       "\n",
       "    .dataframe thead th {\n",
       "        text-align: right;\n",
       "    }\n",
       "</style>\n",
       "<table border=\"1\" class=\"dataframe\">\n",
       "  <thead>\n",
       "    <tr style=\"text-align: right;\">\n",
       "      <th></th>\n",
       "      <th>num_trips</th>\n",
       "      <th>min_trip_duration_minutes</th>\n",
       "      <th>max_trip_duration_minutes</th>\n",
       "    </tr>\n",
       "  </thead>\n",
       "  <tbody>\n",
       "    <tr>\n",
       "      <th>0</th>\n",
       "      <td>53108721</td>\n",
       "      <td>1.0</td>\n",
       "      <td>325167.483333</td>\n",
       "    </tr>\n",
       "  </tbody>\n",
       "</table>\n",
       "</div>"
      ],
      "text/plain": [
       "   num_trips  min_trip_duration_minutes  max_trip_duration_minutes\n",
       "0   53108721                        1.0              325167.483333"
      ]
     },
     "execution_count": 13,
     "metadata": {},
     "output_type": "execute_result"
    }
   ],
   "source": [
    "%%bigquery\n",
    "\n",
    "SELECT \n",
    "    count(*) as num_trips,\n",
    "    MIN(tripduration) / 60 as min_trip_duration_minutes, \n",
    "    max(tripduration) / 60 as max_trip_duration_minutes\n",
    "FROM\n",
    "    `bigquery-public-data.new_york_citibike.citibike_trips`\n",
    "WHERE\n",
    "    tripduration is not NULL AND tripduration > 0"
   ]
  },
  {
   "cell_type": "code",
   "execution_count": 14,
   "id": "be830019-0004-496e-a5a2-4d3cc0cd7131",
   "metadata": {},
   "outputs": [
    {
     "name": "stderr",
     "output_type": "stream",
     "text": [
      "Query complete after 0.01s: 100%|██████████| 3/3 [00:00<00:00, 954.19query/s]                         \n",
      "Downloading: 100%|██████████| 14/14 [00:01<00:00, 12.86rows/s]\n"
     ]
    },
    {
     "data": {
      "text/html": [
       "<div>\n",
       "<style scoped>\n",
       "    .dataframe tbody tr th:only-of-type {\n",
       "        vertical-align: middle;\n",
       "    }\n",
       "\n",
       "    .dataframe tbody tr th {\n",
       "        vertical-align: top;\n",
       "    }\n",
       "\n",
       "    .dataframe thead th {\n",
       "        text-align: right;\n",
       "    }\n",
       "</style>\n",
       "<table border=\"1\" class=\"dataframe\">\n",
       "  <thead>\n",
       "    <tr style=\"text-align: right;\">\n",
       "      <th></th>\n",
       "      <th>year</th>\n",
       "      <th>month</th>\n",
       "      <th>total</th>\n",
       "    </tr>\n",
       "  </thead>\n",
       "  <tbody>\n",
       "    <tr>\n",
       "      <th>0</th>\n",
       "      <td>2017</td>\n",
       "      <td>4</td>\n",
       "      <td>1103779</td>\n",
       "    </tr>\n",
       "    <tr>\n",
       "      <th>1</th>\n",
       "      <td>2017</td>\n",
       "      <td>5</td>\n",
       "      <td>1282373</td>\n",
       "    </tr>\n",
       "    <tr>\n",
       "      <th>2</th>\n",
       "      <td>2017</td>\n",
       "      <td>6</td>\n",
       "      <td>1464462</td>\n",
       "    </tr>\n",
       "    <tr>\n",
       "      <th>3</th>\n",
       "      <td>2017</td>\n",
       "      <td>7</td>\n",
       "      <td>1471769</td>\n",
       "    </tr>\n",
       "    <tr>\n",
       "      <th>4</th>\n",
       "      <td>2017</td>\n",
       "      <td>8</td>\n",
       "      <td>1540029</td>\n",
       "    </tr>\n",
       "    <tr>\n",
       "      <th>5</th>\n",
       "      <td>2017</td>\n",
       "      <td>9</td>\n",
       "      <td>1592627</td>\n",
       "    </tr>\n",
       "    <tr>\n",
       "      <th>6</th>\n",
       "      <td>2017</td>\n",
       "      <td>10</td>\n",
       "      <td>1583536</td>\n",
       "    </tr>\n",
       "    <tr>\n",
       "      <th>7</th>\n",
       "      <td>2017</td>\n",
       "      <td>11</td>\n",
       "      <td>1073609</td>\n",
       "    </tr>\n",
       "    <tr>\n",
       "      <th>8</th>\n",
       "      <td>2017</td>\n",
       "      <td>12</td>\n",
       "      <td>699228</td>\n",
       "    </tr>\n",
       "    <tr>\n",
       "      <th>9</th>\n",
       "      <td>2018</td>\n",
       "      <td>1</td>\n",
       "      <td>718994</td>\n",
       "    </tr>\n",
       "    <tr>\n",
       "      <th>10</th>\n",
       "      <td>2018</td>\n",
       "      <td>2</td>\n",
       "      <td>843114</td>\n",
       "    </tr>\n",
       "    <tr>\n",
       "      <th>11</th>\n",
       "      <td>2018</td>\n",
       "      <td>3</td>\n",
       "      <td>976672</td>\n",
       "    </tr>\n",
       "    <tr>\n",
       "      <th>12</th>\n",
       "      <td>2018</td>\n",
       "      <td>4</td>\n",
       "      <td>1307543</td>\n",
       "    </tr>\n",
       "    <tr>\n",
       "      <th>13</th>\n",
       "      <td>2018</td>\n",
       "      <td>5</td>\n",
       "      <td>1824710</td>\n",
       "    </tr>\n",
       "  </tbody>\n",
       "</table>\n",
       "</div>"
      ],
      "text/plain": [
       "    year  month    total\n",
       "0   2017      4  1103779\n",
       "1   2017      5  1282373\n",
       "2   2017      6  1464462\n",
       "3   2017      7  1471769\n",
       "4   2017      8  1540029\n",
       "5   2017      9  1592627\n",
       "6   2017     10  1583536\n",
       "7   2017     11  1073609\n",
       "8   2017     12   699228\n",
       "9   2018      1   718994\n",
       "10  2018      2   843114\n",
       "11  2018      3   976672\n",
       "12  2018      4  1307543\n",
       "13  2018      5  1824710"
      ]
     },
     "execution_count": 14,
     "metadata": {},
     "output_type": "execute_result"
    }
   ],
   "source": [
    "%%bigquery\n",
    "SELECT \n",
    "    EXTRACT (YEAR FROM starttime) as year,\n",
    "    EXTRACT (MONTH FROM starttime) as month,\n",
    "    count(*) total\n",
    "FROM\n",
    "    `bigquery-public-data.new_york_citibike.citibike_trips`\n",
    "WHERE\n",
    "    (tripduration >= 300 AND tripduration <= 10800) AND\n",
    "    EXTRACT (YEAR FROM starttime) = 2017 OR \n",
    "    EXTRACT (YEAR FROM starttime) = 2018 AND \n",
    "    birth_year is not NULL AND \n",
    "    birth_year < 2007\n",
    "GROUP BY\n",
    "    year, month\n",
    "ORDER BY\n",
    "    year, month ASC"
   ]
  },
  {
   "cell_type": "markdown",
   "id": "373ca46a-3eaf-472e-9b44-f26820da07b7",
   "metadata": {},
   "source": [
    "## Split the dataset into Training, Evaluation and Prediction tables"
   ]
  },
  {
   "cell_type": "code",
   "execution_count": 15,
   "id": "926e61f7-e005-4dcb-88df-58fb691c393c",
   "metadata": {},
   "outputs": [
    {
     "name": "stderr",
     "output_type": "stream",
     "text": [
      "Query complete after 0.00s: 100%|██████████| 3/3 [00:00<00:00, 713.11query/s]                         \n"
     ]
    },
    {
     "data": {
      "text/html": [
       "<div>\n",
       "<style scoped>\n",
       "    .dataframe tbody tr th:only-of-type {\n",
       "        vertical-align: middle;\n",
       "    }\n",
       "\n",
       "    .dataframe tbody tr th {\n",
       "        vertical-align: top;\n",
       "    }\n",
       "\n",
       "    .dataframe thead th {\n",
       "        text-align: right;\n",
       "    }\n",
       "</style>\n",
       "<table border=\"1\" class=\"dataframe\">\n",
       "  <thead>\n",
       "    <tr style=\"text-align: right;\">\n",
       "      <th></th>\n",
       "    </tr>\n",
       "  </thead>\n",
       "  <tbody>\n",
       "  </tbody>\n",
       "</table>\n",
       "</div>"
      ],
      "text/plain": [
       "Empty DataFrame\n",
       "Columns: []\n",
       "Index: []"
      ]
     },
     "execution_count": 15,
     "metadata": {},
     "output_type": "execute_result"
    }
   ],
   "source": [
    "%%bigquery\n",
    "CREATE OR REPLACE TABLE `nyc_bike_share.training_table` AS\n",
    "SELECT\n",
    "    tripduration/60 tripduration,\n",
    "    starttime,\n",
    "    stoptime,\n",
    "    start_station_id,\n",
    "    start_station_name,\n",
    "    start_station_latitude,\n",
    "    start_station_longitude,\n",
    "    end_station_id,\n",
    "    end_station_name,\n",
    "    end_station_latitude,\n",
    "    end_station_longitude,\n",
    "    bikeid,\n",
    "    usertype,\n",
    "    birth_year,\n",
    "    gender,\n",
    "    customer_plan\n",
    "FROM\n",
    "    `bigquery-public-data.new_york_citibike.citibike_trips`\n",
    "WHERE\n",
    "    (\n",
    "        (EXTRACT (YEAR FROM starttime)=2017 AND\n",
    "        (EXTRACT (MONTH FROM starttime)>=4 OR EXTRACT (MONTH FROM starttime)<=12))\n",
    "    OR \n",
    "        (EXTRACT (YEAR FROM starttime)=2018 AND\n",
    "        (EXTRACT (MONTH FROM starttime)>=1 OR EXTRACT (MONTH FROM starttime)<=2))\n",
    "    )\n",
    "    AND (tripduration>=300 AND tripduration<=10800)\n",
    "    AND birth_year is not NULL\n",
    "    AND birth_year < 2007;"
   ]
  },
  {
   "cell_type": "code",
   "execution_count": 16,
   "id": "ee0cdcee-6f42-4dc2-9c39-8d534b8c6737",
   "metadata": {},
   "outputs": [
    {
     "name": "stderr",
     "output_type": "stream",
     "text": [
      "Query complete after 0.00s: 100%|██████████| 2/2 [00:00<00:00, 748.92query/s]                         \n",
      "Downloading: 100%|██████████| 1/1 [00:00<00:00,  1.01rows/s]\n"
     ]
    },
    {
     "data": {
      "text/html": [
       "<div>\n",
       "<style scoped>\n",
       "    .dataframe tbody tr th:only-of-type {\n",
       "        vertical-align: middle;\n",
       "    }\n",
       "\n",
       "    .dataframe tbody tr th {\n",
       "        vertical-align: top;\n",
       "    }\n",
       "\n",
       "    .dataframe thead th {\n",
       "        text-align: right;\n",
       "    }\n",
       "</style>\n",
       "<table border=\"1\" class=\"dataframe\">\n",
       "  <thead>\n",
       "    <tr style=\"text-align: right;\">\n",
       "      <th></th>\n",
       "      <th>f0_</th>\n",
       "    </tr>\n",
       "  </thead>\n",
       "  <tbody>\n",
       "    <tr>\n",
       "      <th>0</th>\n",
       "      <td>14936821</td>\n",
       "    </tr>\n",
       "  </tbody>\n",
       "</table>\n",
       "</div>"
      ],
      "text/plain": [
       "        f0_\n",
       "0  14936821"
      ]
     },
     "execution_count": 16,
     "metadata": {},
     "output_type": "execute_result"
    }
   ],
   "source": [
    "%%bigquery\n",
    "SELECT COUNT(*) FROM `nyc_bike_share.training_table`"
   ]
  },
  {
   "cell_type": "markdown",
   "id": "24bd2a41-e5a3-428c-8382-78325562a7b1",
   "metadata": {},
   "source": [
    "* tripduration greater than `5 minutes` and less than `3 hours`\n",
    "* month number 3 and 4 for year 2018\n",
    "* birth year less than 2017 and not null"
   ]
  },
  {
   "cell_type": "code",
   "execution_count": 17,
   "id": "857661b6-88e9-4cb9-a17d-05bb39c6c005",
   "metadata": {},
   "outputs": [
    {
     "name": "stderr",
     "output_type": "stream",
     "text": [
      "Query complete after 0.00s: 100%|██████████| 3/3 [00:00<00:00, 1555.56query/s]                        \n"
     ]
    },
    {
     "data": {
      "text/html": [
       "<div>\n",
       "<style scoped>\n",
       "    .dataframe tbody tr th:only-of-type {\n",
       "        vertical-align: middle;\n",
       "    }\n",
       "\n",
       "    .dataframe tbody tr th {\n",
       "        vertical-align: top;\n",
       "    }\n",
       "\n",
       "    .dataframe thead th {\n",
       "        text-align: right;\n",
       "    }\n",
       "</style>\n",
       "<table border=\"1\" class=\"dataframe\">\n",
       "  <thead>\n",
       "    <tr style=\"text-align: right;\">\n",
       "      <th></th>\n",
       "    </tr>\n",
       "  </thead>\n",
       "  <tbody>\n",
       "  </tbody>\n",
       "</table>\n",
       "</div>"
      ],
      "text/plain": [
       "Empty DataFrame\n",
       "Columns: []\n",
       "Index: []"
      ]
     },
     "execution_count": 17,
     "metadata": {},
     "output_type": "execute_result"
    }
   ],
   "source": [
    "%%bigquery\n",
    "\n",
    "CREATE OR REPLACE TABLE `nyc_bike_share.evaluation_table` AS\n",
    "SELECT\n",
    "    tripduration/60 tripduration,\n",
    "    starttime,\n",
    "    stoptime,\n",
    "    start_station_id,\n",
    "    start_station_name,\n",
    "    start_station_latitude,\n",
    "    start_station_longitude,\n",
    "    end_station_id,\n",
    "    end_station_name,\n",
    "    end_station_latitude,\n",
    "    end_station_longitude,\n",
    "    bikeid,\n",
    "    usertype,\n",
    "    birth_year,\n",
    "    gender,\n",
    "    customer_plan\n",
    "FROM\n",
    "    `bigquery-public-data.new_york_citibike.citibike_trips`\n",
    "WHERE\n",
    "    (EXTRACT (YEAR FROM starttime)=2018 AND\n",
    "    (EXTRACT (MONTH FROM starttime)=3 OR EXTRACT (MONTH FROM starttime)=4))\n",
    "    AND (tripduration>=300 AND tripduration<=10800)\n",
    "    AND birth_year is not NULL\n",
    "    AND birth_year < 2007;"
   ]
  },
  {
   "cell_type": "code",
   "execution_count": 19,
   "id": "12250d35-fa10-4db0-816a-d6e921e1beec",
   "metadata": {},
   "outputs": [
    {
     "name": "stderr",
     "output_type": "stream",
     "text": [
      "Query complete after 0.00s: 100%|██████████| 2/2 [00:00<00:00, 899.29query/s]                         \n",
      "Downloading: 100%|██████████| 1/1 [00:00<00:00,  1.00rows/s]\n"
     ]
    },
    {
     "data": {
      "text/html": [
       "<div>\n",
       "<style scoped>\n",
       "    .dataframe tbody tr th:only-of-type {\n",
       "        vertical-align: middle;\n",
       "    }\n",
       "\n",
       "    .dataframe tbody tr th {\n",
       "        vertical-align: top;\n",
       "    }\n",
       "\n",
       "    .dataframe thead th {\n",
       "        text-align: right;\n",
       "    }\n",
       "</style>\n",
       "<table border=\"1\" class=\"dataframe\">\n",
       "  <thead>\n",
       "    <tr style=\"text-align: right;\">\n",
       "      <th></th>\n",
       "      <th>f0_</th>\n",
       "    </tr>\n",
       "  </thead>\n",
       "  <tbody>\n",
       "    <tr>\n",
       "      <th>0</th>\n",
       "      <td>1819395</td>\n",
       "    </tr>\n",
       "  </tbody>\n",
       "</table>\n",
       "</div>"
      ],
      "text/plain": [
       "       f0_\n",
       "0  1819395"
      ]
     },
     "execution_count": 19,
     "metadata": {},
     "output_type": "execute_result"
    }
   ],
   "source": [
    "%%bigquery\n",
    "SELECT COUNT(*) FROM `nyc_bike_share.evaluation_table`"
   ]
  },
  {
   "cell_type": "markdown",
   "id": "eddba90f-37ab-4810-a3ac-ee99d0f1d99a",
   "metadata": {},
   "source": [
    "* tripduration greater than `5 minutes` and less than `3 hours`"
   ]
  },
  {
   "cell_type": "code",
   "execution_count": 21,
   "id": "9d0a451d-86ec-4386-94d3-65bfc1d44dba",
   "metadata": {},
   "outputs": [
    {
     "name": "stderr",
     "output_type": "stream",
     "text": [
      "Query complete after 0.00s: 100%|██████████| 3/3 [00:00<00:00, 1182.05query/s]                        \n"
     ]
    },
    {
     "data": {
      "text/html": [
       "<div>\n",
       "<style scoped>\n",
       "    .dataframe tbody tr th:only-of-type {\n",
       "        vertical-align: middle;\n",
       "    }\n",
       "\n",
       "    .dataframe tbody tr th {\n",
       "        vertical-align: top;\n",
       "    }\n",
       "\n",
       "    .dataframe thead th {\n",
       "        text-align: right;\n",
       "    }\n",
       "</style>\n",
       "<table border=\"1\" class=\"dataframe\">\n",
       "  <thead>\n",
       "    <tr style=\"text-align: right;\">\n",
       "      <th></th>\n",
       "    </tr>\n",
       "  </thead>\n",
       "  <tbody>\n",
       "  </tbody>\n",
       "</table>\n",
       "</div>"
      ],
      "text/plain": [
       "Empty DataFrame\n",
       "Columns: []\n",
       "Index: []"
      ]
     },
     "execution_count": 21,
     "metadata": {},
     "output_type": "execute_result"
    }
   ],
   "source": [
    "%%bigquery\n",
    "\n",
    "CREATE OR REPLACE TABLE `nyc_bike_share.prediction_table` AS\n",
    "SELECT\n",
    "    tripduration/60 tripduration,\n",
    "    starttime,\n",
    "    stoptime,\n",
    "    start_station_id,\n",
    "    start_station_name,\n",
    "    start_station_latitude,\n",
    "    start_station_longitude,\n",
    "    end_station_id,\n",
    "    end_station_name,\n",
    "    end_station_latitude,\n",
    "    end_station_longitude,\n",
    "    bikeid,\n",
    "    usertype,\n",
    "    birth_year,\n",
    "    gender,\n",
    "    customer_plan\n",
    "FROM\n",
    "    `bigquery-public-data.new_york_citibike.citibike_trips`\n",
    "WHERE\n",
    "    EXTRACT (YEAR FROM starttime) = 2018\n",
    "    AND EXTRACT (MONTH FROM starttime) = 5\n",
    "    AND (tripduration >= 300 AND tripduration <= 10800) \n",
    "    AND birth_year is not NULL\n",
    "    AND birth_year < 2007;"
   ]
  },
  {
   "cell_type": "code",
   "execution_count": 22,
   "id": "c0185053-a161-4a23-b744-ac5105cef802",
   "metadata": {},
   "outputs": [
    {
     "name": "stderr",
     "output_type": "stream",
     "text": [
      "Query complete after 0.00s: 100%|██████████| 2/2 [00:00<00:00, 866.86query/s]                         \n",
      "Downloading: 100%|██████████| 1/1 [00:00<00:00,  1.03rows/s]\n"
     ]
    },
    {
     "data": {
      "text/html": [
       "<div>\n",
       "<style scoped>\n",
       "    .dataframe tbody tr th:only-of-type {\n",
       "        vertical-align: middle;\n",
       "    }\n",
       "\n",
       "    .dataframe tbody tr th {\n",
       "        vertical-align: top;\n",
       "    }\n",
       "\n",
       "    .dataframe thead th {\n",
       "        text-align: right;\n",
       "    }\n",
       "</style>\n",
       "<table border=\"1\" class=\"dataframe\">\n",
       "  <thead>\n",
       "    <tr style=\"text-align: right;\">\n",
       "      <th></th>\n",
       "      <th>f0_</th>\n",
       "    </tr>\n",
       "  </thead>\n",
       "  <tbody>\n",
       "    <tr>\n",
       "      <th>0</th>\n",
       "      <td>1527475</td>\n",
       "    </tr>\n",
       "  </tbody>\n",
       "</table>\n",
       "</div>"
      ],
      "text/plain": [
       "       f0_\n",
       "0  1527475"
      ]
     },
     "execution_count": 22,
     "metadata": {},
     "output_type": "execute_result"
    }
   ],
   "source": [
    "%%bigquery\n",
    "SELECT COUNT(*) FROM `nyc_bike_share.prediction_table`"
   ]
  },
  {
   "cell_type": "code",
   "execution_count": 49,
   "id": "3d5b2ced-a1c5-4206-bae8-decb0a98f90a",
   "metadata": {},
   "outputs": [],
   "source": [
    "Training =  14936821 \n",
    "Evaluation = 1819395\n",
    "Prediction = 1527475"
   ]
  },
  {
   "cell_type": "code",
   "execution_count": 50,
   "id": "22709230-48ee-4f9b-bac8-a6fb485c84fb",
   "metadata": {},
   "outputs": [
    {
     "data": {
      "text/plain": [
       "18283691"
      ]
     },
     "execution_count": 50,
     "metadata": {},
     "output_type": "execute_result"
    }
   ],
   "source": [
    "total = (Training + Evaluation + Prediction)\n",
    "total"
   ]
  },
  {
   "cell_type": "code",
   "execution_count": 42,
   "id": "41a68d2d-acec-44b2-98bd-3c3ee7b61c2a",
   "metadata": {},
   "outputs": [
    {
     "name": "stdout",
     "output_type": "stream",
     "text": [
      "Training data : 81.69477924342519% \n"
     ]
    }
   ],
   "source": [
    "print(f\"Training data : {100 * Training / total}% \")"
   ]
  },
  {
   "cell_type": "code",
   "execution_count": 41,
   "id": "7b36a10c-9174-43a8-8b7a-c24b01c80592",
   "metadata": {},
   "outputs": [
    {
     "name": "stdout",
     "output_type": "stream",
     "text": [
      "Evaluation data : 9.950917459718609% \n"
     ]
    }
   ],
   "source": [
    "print(f\"Evaluation data : {100 * Evaluation / total}% \") "
   ]
  },
  {
   "cell_type": "code",
   "execution_count": 40,
   "id": "9e4d6fcd-97ad-4d50-a155-f536baea6589",
   "metadata": {},
   "outputs": [
    {
     "name": "stdout",
     "output_type": "stream",
     "text": [
      "Prediction data : 8.354303296856198% \n"
     ]
    }
   ],
   "source": [
    "print(f\"Prediction data : {100 * Prediction / total}% \")"
   ]
  },
  {
   "cell_type": "code",
   "execution_count": 36,
   "id": "a00c2546-90e3-496e-b6c2-c8b819994e91",
   "metadata": {},
   "outputs": [
    {
     "name": "stderr",
     "output_type": "stream",
     "text": [
      "Query complete after 0.00s: 100%|██████████| 3/3 [00:00<00:00, 1155.24query/s]                        \n"
     ]
    },
    {
     "data": {
      "text/html": [
       "<div>\n",
       "<style scoped>\n",
       "    .dataframe tbody tr th:only-of-type {\n",
       "        vertical-align: middle;\n",
       "    }\n",
       "\n",
       "    .dataframe tbody tr th {\n",
       "        vertical-align: top;\n",
       "    }\n",
       "\n",
       "    .dataframe thead th {\n",
       "        text-align: right;\n",
       "    }\n",
       "</style>\n",
       "<table border=\"1\" class=\"dataframe\">\n",
       "  <thead>\n",
       "    <tr style=\"text-align: right;\">\n",
       "      <th></th>\n",
       "    </tr>\n",
       "  </thead>\n",
       "  <tbody>\n",
       "  </tbody>\n",
       "</table>\n",
       "</div>"
      ],
      "text/plain": [
       "Empty DataFrame\n",
       "Columns: []\n",
       "Index: []"
      ]
     },
     "execution_count": 36,
     "metadata": {},
     "output_type": "execute_result"
    }
   ],
   "source": [
    "%%bigquery\n",
    "\n",
    "CREATE OR REPLACE MODEL `nyc_bike_share.trip_duration_xgb_predictor`\n",
    "TRANSFORM (* EXCEPT(starttime, stoptime, start_station_id, end_station_id, bikeid),\n",
    "    ML.BUCKETIZE(EXTRACT(HOUR FROM starttime), [5, 10, 17]) AS hourofday,\n",
    "    EXTRACT(WEEK FROM starttime) AS starttime_week,\n",
    "    EXTRACT(MONTH FROM starttime) AS starttime_month,\n",
    "    IF (EXTRACT(DAYOFWEEK FROM starttime) BETWEEN 2 and 6, true, false) AS is_weekend,\n",
    "    (EXTRACT(YEAR FROM starttime) - birth_year) AS age,\n",
    "    ST_DISTANCE(\n",
    "        ST_GEOGPOINT(start_station_longitude, start_station_latitude), \n",
    "        ST_GEOGPOINT(end_station_longitude, end_station_latitude)) AS distance)\n",
    "OPTIONS\n",
    "    (MODEL_TYPE='BOOSTED_TREE_REGRESSOR',\n",
    "    INPUT_LABEL_COLS = ['tripduration'],\n",
    "    BOOSTER_TYPE = 'GBTREE',\n",
    "    NUM_PARALLEL_TREE = 1,\n",
    "    MAX_ITERATIONS = 50,\n",
    "    TREE_METHOD = 'HIST',\n",
    "    EARLY_STOP = TRUE,\n",
    "    ENABLE_GLOBAL_EXPLAIN = TRUE) AS\n",
    "SELECT\n",
    "    *\n",
    "FROM\n",
    "    `nyc_bike_share.training_table`"
   ]
  },
  {
   "cell_type": "code",
   "execution_count": 46,
   "id": "dd750ad5-a584-453c-98a6-fe779e005b22",
   "metadata": {},
   "outputs": [
    {
     "name": "stderr",
     "output_type": "stream",
     "text": [
      "Query complete after 0.00s: 100%|██████████| 2/2 [00:00<00:00, 862.05query/s]                         \n",
      "Downloading: 100%|██████████| 9/9 [00:01<00:00,  7.99rows/s]\n"
     ]
    },
    {
     "data": {
      "text/html": [
       "<div>\n",
       "<style scoped>\n",
       "    .dataframe tbody tr th:only-of-type {\n",
       "        vertical-align: middle;\n",
       "    }\n",
       "\n",
       "    .dataframe tbody tr th {\n",
       "        vertical-align: top;\n",
       "    }\n",
       "\n",
       "    .dataframe thead th {\n",
       "        text-align: right;\n",
       "    }\n",
       "</style>\n",
       "<table border=\"1\" class=\"dataframe\">\n",
       "  <thead>\n",
       "    <tr style=\"text-align: right;\">\n",
       "      <th></th>\n",
       "      <th>training_run</th>\n",
       "      <th>iteration</th>\n",
       "      <th>loss</th>\n",
       "      <th>eval_loss</th>\n",
       "      <th>learning_rate</th>\n",
       "      <th>duration_ms</th>\n",
       "    </tr>\n",
       "  </thead>\n",
       "  <tbody>\n",
       "    <tr>\n",
       "      <th>0</th>\n",
       "      <td>0</td>\n",
       "      <td>9</td>\n",
       "      <td>7.58681</td>\n",
       "      <td>6.92653</td>\n",
       "      <td>0.3</td>\n",
       "      <td>48</td>\n",
       "    </tr>\n",
       "    <tr>\n",
       "      <th>1</th>\n",
       "      <td>0</td>\n",
       "      <td>8</td>\n",
       "      <td>7.62988</td>\n",
       "      <td>6.96996</td>\n",
       "      <td>0.3</td>\n",
       "      <td>62</td>\n",
       "    </tr>\n",
       "    <tr>\n",
       "      <th>2</th>\n",
       "      <td>0</td>\n",
       "      <td>7</td>\n",
       "      <td>7.70329</td>\n",
       "      <td>7.04674</td>\n",
       "      <td>0.3</td>\n",
       "      <td>44</td>\n",
       "    </tr>\n",
       "    <tr>\n",
       "      <th>3</th>\n",
       "      <td>0</td>\n",
       "      <td>6</td>\n",
       "      <td>7.84217</td>\n",
       "      <td>7.18918</td>\n",
       "      <td>0.3</td>\n",
       "      <td>43</td>\n",
       "    </tr>\n",
       "    <tr>\n",
       "      <th>4</th>\n",
       "      <td>0</td>\n",
       "      <td>5</td>\n",
       "      <td>8.09599</td>\n",
       "      <td>7.44654</td>\n",
       "      <td>0.3</td>\n",
       "      <td>60</td>\n",
       "    </tr>\n",
       "    <tr>\n",
       "      <th>5</th>\n",
       "      <td>0</td>\n",
       "      <td>4</td>\n",
       "      <td>8.57691</td>\n",
       "      <td>7.94520</td>\n",
       "      <td>0.3</td>\n",
       "      <td>13964</td>\n",
       "    </tr>\n",
       "    <tr>\n",
       "      <th>6</th>\n",
       "      <td>0</td>\n",
       "      <td>3</td>\n",
       "      <td>9.46915</td>\n",
       "      <td>8.86985</td>\n",
       "      <td>0.3</td>\n",
       "      <td>53</td>\n",
       "    </tr>\n",
       "    <tr>\n",
       "      <th>7</th>\n",
       "      <td>0</td>\n",
       "      <td>2</td>\n",
       "      <td>11.05230</td>\n",
       "      <td>10.51290</td>\n",
       "      <td>0.3</td>\n",
       "      <td>66</td>\n",
       "    </tr>\n",
       "    <tr>\n",
       "      <th>8</th>\n",
       "      <td>0</td>\n",
       "      <td>1</td>\n",
       "      <td>13.72140</td>\n",
       "      <td>13.27020</td>\n",
       "      <td>0.3</td>\n",
       "      <td>212410</td>\n",
       "    </tr>\n",
       "  </tbody>\n",
       "</table>\n",
       "</div>"
      ],
      "text/plain": [
       "   training_run  iteration      loss  eval_loss  learning_rate  duration_ms\n",
       "0             0          9   7.58681    6.92653            0.3           48\n",
       "1             0          8   7.62988    6.96996            0.3           62\n",
       "2             0          7   7.70329    7.04674            0.3           44\n",
       "3             0          6   7.84217    7.18918            0.3           43\n",
       "4             0          5   8.09599    7.44654            0.3           60\n",
       "5             0          4   8.57691    7.94520            0.3        13964\n",
       "6             0          3   9.46915    8.86985            0.3           53\n",
       "7             0          2  11.05230   10.51290            0.3           66\n",
       "8             0          1  13.72140   13.27020            0.3       212410"
      ]
     },
     "execution_count": 46,
     "metadata": {},
     "output_type": "execute_result"
    }
   ],
   "source": [
    "%%bigquery\n",
    "SELECT\n",
    "    *\n",
    "FROM\n",
    "    ML.TRAINING_INFO(MODEL `nyc_bike_share.trip_duration_xgb_predictor`)"
   ]
  },
  {
   "cell_type": "code",
   "execution_count": 47,
   "id": "3d795ffc-3988-4958-905d-a0c59338164d",
   "metadata": {},
   "outputs": [
    {
     "name": "stderr",
     "output_type": "stream",
     "text": [
      "Query complete after 0.00s: 100%|██████████| 1/1 [00:00<00:00, 579.56query/s]                          \n",
      "Downloading: 100%|██████████| 1/1 [00:01<00:00,  1.03s/rows]\n"
     ]
    },
    {
     "data": {
      "text/html": [
       "<div>\n",
       "<style scoped>\n",
       "    .dataframe tbody tr th:only-of-type {\n",
       "        vertical-align: middle;\n",
       "    }\n",
       "\n",
       "    .dataframe tbody tr th {\n",
       "        vertical-align: top;\n",
       "    }\n",
       "\n",
       "    .dataframe thead th {\n",
       "        text-align: right;\n",
       "    }\n",
       "</style>\n",
       "<table border=\"1\" class=\"dataframe\">\n",
       "  <thead>\n",
       "    <tr style=\"text-align: right;\">\n",
       "      <th></th>\n",
       "      <th>mean_absolute_error</th>\n",
       "      <th>mean_squared_error</th>\n",
       "      <th>mean_squared_log_error</th>\n",
       "      <th>median_absolute_error</th>\n",
       "      <th>r2_score</th>\n",
       "      <th>explained_variance</th>\n",
       "    </tr>\n",
       "  </thead>\n",
       "  <tbody>\n",
       "    <tr>\n",
       "      <th>0</th>\n",
       "      <td>3.656444</td>\n",
       "      <td>47.976859</td>\n",
       "      <td>0.097913</td>\n",
       "      <td>2.172709</td>\n",
       "      <td>0.535788</td>\n",
       "      <td>0.538238</td>\n",
       "    </tr>\n",
       "  </tbody>\n",
       "</table>\n",
       "</div>"
      ],
      "text/plain": [
       "   mean_absolute_error  mean_squared_error  mean_squared_log_error  \\\n",
       "0             3.656444           47.976859                0.097913   \n",
       "\n",
       "   median_absolute_error  r2_score  explained_variance  \n",
       "0               2.172709  0.535788            0.538238  "
      ]
     },
     "execution_count": 47,
     "metadata": {},
     "output_type": "execute_result"
    }
   ],
   "source": [
    "%%bigquery\n",
    "SELECT\n",
    "  *\n",
    "FROM\n",
    "  ML.EVALUATE(MODEL `nyc_bike_share.trip_duration_xgb_predictor`)"
   ]
  },
  {
   "cell_type": "code",
   "execution_count": 39,
   "id": "548e1500-d7b6-4619-a518-40072fe6169f",
   "metadata": {},
   "outputs": [
    {
     "name": "stderr",
     "output_type": "stream",
     "text": [
      "Query complete after 0.00s: 100%|██████████| 2/2 [00:00<00:00, 837.27query/s]                         \n",
      "Downloading: 100%|██████████| 1/1 [00:00<00:00,  1.02rows/s]\n"
     ]
    },
    {
     "data": {
      "text/html": [
       "<div>\n",
       "<style scoped>\n",
       "    .dataframe tbody tr th:only-of-type {\n",
       "        vertical-align: middle;\n",
       "    }\n",
       "\n",
       "    .dataframe tbody tr th {\n",
       "        vertical-align: top;\n",
       "    }\n",
       "\n",
       "    .dataframe thead th {\n",
       "        text-align: right;\n",
       "    }\n",
       "</style>\n",
       "<table border=\"1\" class=\"dataframe\">\n",
       "  <thead>\n",
       "    <tr style=\"text-align: right;\">\n",
       "      <th></th>\n",
       "      <th>mean_absolute_error</th>\n",
       "      <th>mean_squared_error</th>\n",
       "      <th>mean_squared_log_error</th>\n",
       "      <th>median_absolute_error</th>\n",
       "      <th>r2_score</th>\n",
       "      <th>explained_variance</th>\n",
       "    </tr>\n",
       "  </thead>\n",
       "  <tbody>\n",
       "    <tr>\n",
       "      <th>0</th>\n",
       "      <td>4.005738</td>\n",
       "      <td>70.328708</td>\n",
       "      <td>0.106598</td>\n",
       "      <td>2.220785</td>\n",
       "      <td>0.485437</td>\n",
       "      <td>0.487123</td>\n",
       "    </tr>\n",
       "  </tbody>\n",
       "</table>\n",
       "</div>"
      ],
      "text/plain": [
       "   mean_absolute_error  mean_squared_error  mean_squared_log_error  \\\n",
       "0             4.005738           70.328708                0.106598   \n",
       "\n",
       "   median_absolute_error  r2_score  explained_variance  \n",
       "0               2.220785  0.485437            0.487123  "
      ]
     },
     "execution_count": 39,
     "metadata": {},
     "output_type": "execute_result"
    }
   ],
   "source": [
    "%%bigquery\n",
    "\n",
    "SELECT \n",
    "    *\n",
    "FROM \n",
    "    ML.EVALUATE(MODEL `nyc_bike_share.trip_duration_xgb_predictor`, (\n",
    "                 SELECT * FROM `nyc_bike_share.evaluation_table`\n",
    "                ))"
   ]
  },
  {
   "cell_type": "code",
   "execution_count": 38,
   "id": "e34b65d2-f4c7-4fab-b5b2-0c4c1e3420d8",
   "metadata": {},
   "outputs": [
    {
     "name": "stderr",
     "output_type": "stream",
     "text": [
      "Query complete after 0.00s: 100%|██████████| 2/2 [00:00<00:00, 506.22query/s]                         \n",
      "Downloading: 100%|██████████| 1527475/1527475 [00:01<00:00, 770988.57rows/s] \n"
     ]
    },
    {
     "data": {
      "text/html": [
       "<div>\n",
       "<style scoped>\n",
       "    .dataframe tbody tr th:only-of-type {\n",
       "        vertical-align: middle;\n",
       "    }\n",
       "\n",
       "    .dataframe tbody tr th {\n",
       "        vertical-align: top;\n",
       "    }\n",
       "\n",
       "    .dataframe thead th {\n",
       "        text-align: right;\n",
       "    }\n",
       "</style>\n",
       "<table border=\"1\" class=\"dataframe\">\n",
       "  <thead>\n",
       "    <tr style=\"text-align: right;\">\n",
       "      <th></th>\n",
       "      <th>predicted_tripduration</th>\n",
       "      <th>tripduration</th>\n",
       "      <th>start_station_name</th>\n",
       "      <th>end_station_name</th>\n",
       "    </tr>\n",
       "  </thead>\n",
       "  <tbody>\n",
       "    <tr>\n",
       "      <th>0</th>\n",
       "      <td>8.419283</td>\n",
       "      <td>5.716667</td>\n",
       "      <td>E 85 St &amp; York Ave</td>\n",
       "      <td>E 85 St &amp; 3 Ave</td>\n",
       "    </tr>\n",
       "    <tr>\n",
       "      <th>1</th>\n",
       "      <td>7.541323</td>\n",
       "      <td>8.150000</td>\n",
       "      <td>Fulton St &amp; Waverly Ave</td>\n",
       "      <td>Clinton Ave &amp; Myrtle Ave</td>\n",
       "    </tr>\n",
       "    <tr>\n",
       "      <th>2</th>\n",
       "      <td>8.483127</td>\n",
       "      <td>14.600000</td>\n",
       "      <td>5 Ave &amp; E 29 St</td>\n",
       "      <td>Lexington Ave &amp; E 24 St</td>\n",
       "    </tr>\n",
       "    <tr>\n",
       "      <th>3</th>\n",
       "      <td>11.305532</td>\n",
       "      <td>8.616667</td>\n",
       "      <td>Pershing Square South</td>\n",
       "      <td>Broadway &amp; E 22 St</td>\n",
       "    </tr>\n",
       "    <tr>\n",
       "      <th>4</th>\n",
       "      <td>7.808872</td>\n",
       "      <td>6.516667</td>\n",
       "      <td>Broadway &amp; W 29 St</td>\n",
       "      <td>E 24 St &amp; Park Ave S</td>\n",
       "    </tr>\n",
       "    <tr>\n",
       "      <th>...</th>\n",
       "      <td>...</td>\n",
       "      <td>...</td>\n",
       "      <td>...</td>\n",
       "      <td>...</td>\n",
       "    </tr>\n",
       "    <tr>\n",
       "      <th>1527470</th>\n",
       "      <td>7.206043</td>\n",
       "      <td>6.133333</td>\n",
       "      <td>Broadway &amp; W 37 St</td>\n",
       "      <td>Broadway &amp; W 25 St</td>\n",
       "    </tr>\n",
       "    <tr>\n",
       "      <th>1527471</th>\n",
       "      <td>7.206043</td>\n",
       "      <td>5.200000</td>\n",
       "      <td>St James Pl &amp; Oliver St</td>\n",
       "      <td>Fulton St &amp; William St</td>\n",
       "    </tr>\n",
       "    <tr>\n",
       "      <th>1527472</th>\n",
       "      <td>7.206043</td>\n",
       "      <td>6.533333</td>\n",
       "      <td>31 Ave &amp; 14 St</td>\n",
       "      <td>31 St &amp; Broadway</td>\n",
       "    </tr>\n",
       "    <tr>\n",
       "      <th>1527473</th>\n",
       "      <td>7.206043</td>\n",
       "      <td>5.233333</td>\n",
       "      <td>31 Ave &amp; 14 St</td>\n",
       "      <td>31 St &amp; Broadway</td>\n",
       "    </tr>\n",
       "    <tr>\n",
       "      <th>1527474</th>\n",
       "      <td>7.206043</td>\n",
       "      <td>6.283333</td>\n",
       "      <td>Verona Pl &amp; Fulton St</td>\n",
       "      <td>Greene Ave &amp; Nostrand Ave</td>\n",
       "    </tr>\n",
       "  </tbody>\n",
       "</table>\n",
       "<p>1527475 rows × 4 columns</p>\n",
       "</div>"
      ],
      "text/plain": [
       "         predicted_tripduration  tripduration       start_station_name  \\\n",
       "0                      8.419283      5.716667       E 85 St & York Ave   \n",
       "1                      7.541323      8.150000  Fulton St & Waverly Ave   \n",
       "2                      8.483127     14.600000          5 Ave & E 29 St   \n",
       "3                     11.305532      8.616667    Pershing Square South   \n",
       "4                      7.808872      6.516667       Broadway & W 29 St   \n",
       "...                         ...           ...                      ...   \n",
       "1527470                7.206043      6.133333       Broadway & W 37 St   \n",
       "1527471                7.206043      5.200000  St James Pl & Oliver St   \n",
       "1527472                7.206043      6.533333           31 Ave & 14 St   \n",
       "1527473                7.206043      5.233333           31 Ave & 14 St   \n",
       "1527474                7.206043      6.283333    Verona Pl & Fulton St   \n",
       "\n",
       "                  end_station_name  \n",
       "0                  E 85 St & 3 Ave  \n",
       "1         Clinton Ave & Myrtle Ave  \n",
       "2          Lexington Ave & E 24 St  \n",
       "3               Broadway & E 22 St  \n",
       "4             E 24 St & Park Ave S  \n",
       "...                            ...  \n",
       "1527470         Broadway & W 25 St  \n",
       "1527471     Fulton St & William St  \n",
       "1527472           31 St & Broadway  \n",
       "1527473           31 St & Broadway  \n",
       "1527474  Greene Ave & Nostrand Ave  \n",
       "\n",
       "[1527475 rows x 4 columns]"
      ]
     },
     "execution_count": 38,
     "metadata": {},
     "output_type": "execute_result"
    }
   ],
   "source": [
    "%%bigquery\n",
    "\n",
    "SELECT \n",
    "    predicted_tripduration, \n",
    "    tripduration, \n",
    "    start_station_name, \n",
    "    end_station_name\n",
    "FROM \n",
    "    ML.PREDICT(MODEL `nyc_bike_share.trip_duration_xgb_predictor`, (\n",
    "                 SELECT * FROM `nyc_bike_share.prediction_table`\n",
    "                ))"
   ]
  },
  {
   "cell_type": "code",
   "execution_count": null,
   "id": "d873b5d7-8a46-4742-9e26-3332b8a27a18",
   "metadata": {},
   "outputs": [],
   "source": []
  }
 ],
 "metadata": {
  "environment": {
   "kernel": "python3",
   "name": "tf2-gpu.2-6.m87",
   "type": "gcloud",
   "uri": "gcr.io/deeplearning-platform-release/tf2-gpu.2-6:m87"
  },
  "kernelspec": {
   "display_name": "Python 3 (ipykernel)",
   "language": "python",
   "name": "python3"
  },
  "language_info": {
   "codemirror_mode": {
    "name": "ipython",
    "version": 3
   },
   "file_extension": ".py",
   "mimetype": "text/x-python",
   "name": "python",
   "nbconvert_exporter": "python",
   "pygments_lexer": "ipython3",
   "version": "3.9.7"
  }
 },
 "nbformat": 4,
 "nbformat_minor": 5
}
